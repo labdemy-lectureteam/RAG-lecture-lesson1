{
  "cells": [
    {
      "cell_type": "markdown",
      "metadata": {
        "id": "bdkNU2eiJNlU"
      },
      "source": [
        "# 準備"
      ]
    },
    {
      "cell_type": "markdown",
      "metadata": {
        "id": "zbhewFTHJSSV"
      },
      "source": [
        "git cloneで今回利用するファイルを取得"
      ]
    },
    {
      "cell_type": "code",
      "execution_count": null,
      "metadata": {
        "id": "SyZqWvqzJMSW"
      },
      "outputs": [],
      "source": [
        "!git clone https://github.com/labdemy-lectureteam/RAG-lecture-lesson1.git"
      ]
    },
    {
      "cell_type": "markdown",
      "metadata": {
        "id": "NEQAKVNsJXDA"
      },
      "source": [
        "必要パッケージのインストール"
      ]
    },
    {
      "cell_type": "code",
      "execution_count": null,
      "metadata": {
        "id": "EhC_wVWRJWL8"
      },
      "outputs": [],
      "source": [
        "%pip install -qU langchain_community\n",
        "%pip install -qU pypdf\n",
        "%pip install -qU nltk\n",
        "%pip install -qU langchain_openai langchain_chroma\n",
        "%pip install -qU unstructured"
      ]
    },
    {
      "cell_type": "markdown",
      "metadata": {},
      "source": [
        "API KEYの設定"
      ]
    },
    {
      "cell_type": "code",
      "execution_count": null,
      "metadata": {},
      "outputs": [],
      "source": [
        "import os\n",
        "from google.colab import userdata\n",
        "os.environ[\"OPENAI_API_KEY\"] = userdata.get('OPENAI_API_KEY')"
      ]
    },
    {
      "cell_type": "markdown",
      "metadata": {
        "id": "g6YbRYiJJsQa"
      },
      "source": [
        "# データの前処理"
      ]
    },
    {
      "cell_type": "markdown",
      "metadata": {
        "id": "gIRRSpGUJtq6"
      },
      "source": [
        "## データの読み込み"
      ]
    },
    {
      "cell_type": "code",
      "execution_count": null,
      "metadata": {
        "id": "H8hadTOQJPkY"
      },
      "outputs": [],
      "source": [
        "from langchain_core.documents import Document"
      ]
    },
    {
      "cell_type": "markdown",
      "metadata": {
        "id": "ynAqp9OJJwe7"
      },
      "source": [
        "## PDFの読み込み"
      ]
    },
    {
      "cell_type": "code",
      "execution_count": null,
      "metadata": {
        "id": "GVtUsaG7Jxmp"
      },
      "outputs": [],
      "source": [
        "from langchain_community.document_loaders import PyPDFLoader, PyPDFDirectoryLoader\n",
        "import os\n",
        "\n",
        "def load_PDFs_from_dir(dir_path:str)->list[Document]:\n",
        "  loader = PyPDFDirectoryLoader(dir_path, glob=\"*.pdf\")\n",
        "  documents = loader.load()\n",
        "  return documents\n",
        "\n",
        "def load_PDF_from_path(file_path:str)->list[Document]:\n",
        "  loader = PyPDFLoader(file_path)\n",
        "  documents = loader.load()\n",
        "  return documents"
      ]
    },
    {
      "cell_type": "code",
      "execution_count": null,
      "metadata": {
        "id": "Yrha9p0YJ-Ia"
      },
      "outputs": [],
      "source": [
        "DIR_PATH = \"/content/RAG-lecture-lesson1/sample_files\"\n",
        "docs = load_PDFs_from_dir(DIR_PATH)"
      ]
    },
    {
      "cell_type": "code",
      "execution_count": null,
      "metadata": {
        "id": "wtYJK0PPJ-fE"
      },
      "outputs": [],
      "source": [
        "print(f'docs配列の長さ（pdfの合計ファイル数ではなく、pdfの合計ページ数）：\\n{len(docs)} \\n---------') #\n",
        "print(f'1つ目のドキュメントのメタデータ（ソースのパスと、ページ番号が書かれていることに着目）：\\n{docs[1].metadata} \\n---------') #\n",
        "print(f'1つ目のドキュメントの中身：\\n{docs[1].page_content}')"
      ]
    },
    {
      "cell_type": "markdown",
      "metadata": {
        "id": "IMRCTXWjKI5I"
      },
      "source": [
        "## HTMLファイルの読み込み"
      ]
    },
    {
      "cell_type": "code",
      "execution_count": null,
      "metadata": {
        "id": "DUk8QiEUKAue"
      },
      "outputs": [],
      "source": [
        "from langchain_community.document_loaders import BSHTMLLoader\n",
        "import os\n",
        "import glob\n",
        "\n",
        "def load_html_from_dir(dir_path:str) -> list[Document]:\n",
        "  documents = []\n",
        "  file_paths = glob.glob(os.path.join(dir_path, '*.html'))\n",
        "  for file_path in file_paths:\n",
        "    loader = BSHTMLLoader(file_path)\n",
        "    documents += loader.load()\n",
        "  return documents\n",
        "\n",
        "def load_html_from_path(file_path:str) -> list[Document]:\n",
        "  loader = BSHTMLLoader(file_path)\n",
        "  documents = loader.load()\n",
        "  return documents"
      ]
    },
    {
      "cell_type": "code",
      "execution_count": null,
      "metadata": {
        "id": "kC2Jubs5KL3g"
      },
      "outputs": [],
      "source": [
        "DIR_PATH = \"/content/RAG-lecture-lesson1/sample_files\"\n",
        "docs = load_html_from_dir(DIR_PATH)"
      ]
    },
    {
      "cell_type": "code",
      "execution_count": null,
      "metadata": {
        "id": "kfF3A0LbKmaB"
      },
      "outputs": [],
      "source": [
        "print(f'docs配列の長さ：\\n{len(docs)} \\n ---------')\n",
        "print(f'1つ目のドキュメントのメタデータ：\\n{docs[0].metadata} \\n---------')\n",
        "print(f'1つ目のドキュメントの中身：\\n{docs[0].page_content}')"
      ]
    },
    {
      "cell_type": "markdown",
      "metadata": {
        "id": "Nl7IBx7CKT8z"
      },
      "source": [
        "## Markdownファイルの読み込み"
      ]
    },
    {
      "cell_type": "code",
      "execution_count": null,
      "metadata": {
        "id": "-OyyJwzQKVqT"
      },
      "outputs": [],
      "source": [
        "from langchain_community.document_loaders import UnstructuredMarkdownLoader\n",
        "from langchain.document_loaders import DirectoryLoader\n",
        "\n",
        "def load_markdowns_from_dir(dir_path:str)->list[Document]:\n",
        "  loader = DirectoryLoader(dir_path, glob=\"*.md\")\n",
        "  documents = loader.load()\n",
        "  return documents\n",
        "\n",
        "def load_markdown_from_path(file_path:str)->list[Document]:\n",
        "  loader = UnstructuredMarkdownLoader(file_path)\n",
        "  documents = loader.load()\n",
        "  return documents"
      ]
    },
    {
      "cell_type": "code",
      "execution_count": null,
      "metadata": {
        "id": "4i0jmlkTKcnF"
      },
      "outputs": [],
      "source": [
        "DIR_PATH = \"/content/RAG-lecture-lesson1/sample_files\"\n",
        "docs = load_markdowns_from_dir(DIR_PATH) #Documentクラスが格納されたリスト"
      ]
    },
    {
      "cell_type": "code",
      "execution_count": null,
      "metadata": {
        "id": "KFrdv-7wKotO"
      },
      "outputs": [],
      "source": [
        "print(f'docs配列の長さ：\\n{len(docs)} \\n ---------')\n",
        "print(f'1つ目のドキュメントのメタデータ：\\n{docs[0].metadata} \\n---------')\n",
        "print(f'1つ目のドキュメントの中身：\\n{docs[0].page_content}')"
      ]
    },
    {
      "cell_type": "markdown",
      "metadata": {
        "id": "N-hheUZuKz6U"
      },
      "source": [
        "# Chunk分け"
      ]
    },
    {
      "cell_type": "code",
      "execution_count": null,
      "metadata": {
        "id": "poHlKjSDK0_g"
      },
      "outputs": [],
      "source": [
        "from langchain_text_splitters import RecursiveCharacterTextSplitter\n",
        "text_splitter = RecursiveCharacterTextSplitter(\n",
        "    separators=[\"\\n\\n\", \"\\n\", \" \", \"\"],#分割の基準となる文字\n",
        "    chunk_size=100, #chunkの大きさ\n",
        "    chunk_overlap=0, #chunkの重複の大きさ\n",
        "    length_function=len, #chunkの大きさの測定関数\n",
        "    keep_separator=False #分割基準の文字を保持するか否か\n",
        ")"
      ]
    },
    {
      "cell_type": "code",
      "execution_count": null,
      "metadata": {
        "id": "_yan3je9K6Vz"
      },
      "outputs": [],
      "source": [
        "PDF_DIR_PATH = \"/content/RAG-lecture-lesson1/sample_files\"\n",
        "docs = load_PDFs_from_dir(PDF_DIR_PATH)"
      ]
    },
    {
      "cell_type": "code",
      "execution_count": null,
      "metadata": {
        "id": "lLXl2-gyK_G4"
      },
      "outputs": [],
      "source": [
        "chunks = text_splitter.split_documents(docs)"
      ]
    },
    {
      "cell_type": "code",
      "execution_count": null,
      "metadata": {
        "id": "roVgz6RjLAah"
      },
      "outputs": [],
      "source": [
        "print(f\"chunkの数：{len(chunks)}\\n---------\")\n",
        "print(f\"1つ目のchunkの中身：\\n{chunks[0]}\\n---------\")\n",
        "print(f\"2つ目のchunkの中身：\\n{chunks[1]}\")\n",
        "print(f\"3つ目のchunkの中身：\\n{chunks[2]}\\n---------\")"
      ]
    },
    {
      "cell_type": "markdown",
      "metadata": {
        "id": "m28BGWpvLBzn"
      },
      "source": [
        "# データのベクトル化"
      ]
    },
    {
      "cell_type": "code",
      "execution_count": null,
      "metadata": {
        "id": "wHf5tPMuLDWz"
      },
      "outputs": [],
      "source": [
        "from langchain_openai import OpenAIEmbeddings\n",
        "from langchain_chroma import Chroma\n",
        "\n",
        "embeddings_model = OpenAIEmbeddings(model='text-embedding-3-small')\n",
        "\n",
        "vector_db = Chroma(\n",
        "        collection_name='rag_app_collection',\n",
        "        embedding_function=embeddings_model,\n",
        "        persist_directory='database/ChromaDB'\n",
        "        )\n",
        "vector_db.add_documents(documents=chunks)"
      ]
    },
    {
      "cell_type": "markdown",
      "metadata": {
        "id": "NfOF-ZWfbDSy"
      },
      "source": [
        "# Retrieval処理"
      ]
    },
    {
      "cell_type": "code",
      "execution_count": null,
      "metadata": {
        "id": "U_Edvzj-LKrx"
      },
      "outputs": [],
      "source": [
        "query='担当者の連絡先を教えて'\n",
        "contexts = vector_db.similarity_search_with_relevance_scores(query,\n",
        "                                                             k=5,\n",
        "                                                             score_threshold=0.1)"
      ]
    },
    {
      "cell_type": "code",
      "execution_count": null,
      "metadata": {
        "id": "DDQWS0CfLMSL"
      },
      "outputs": [],
      "source": [
        "print(f\"質問と関連性が高いコンテキスト：{contexts}\")"
      ]
    },
    {
      "cell_type": "markdown",
      "metadata": {
        "id": "1hp6EuC3mnoa"
      },
      "source": [
        "# 回答生成"
      ]
    },
    {
      "cell_type": "markdown",
      "metadata": {
        "id": "RtqSh40Dmy8z"
      },
      "source": [
        "プロンプト作成"
      ]
    },
    {
      "cell_type": "code",
      "execution_count": null,
      "metadata": {
        "id": "wEvWkJIEmpnZ"
      },
      "outputs": [],
      "source": [
        "from langchain_core.prompts import ChatPromptTemplate\n",
        "PROMPT = \"\"\"\n",
        "You are a helpful assistant. Answer the following questions based on the given context:\n",
        "chat history: {CHAT_HISTORY}\n",
        "\n",
        "context: {CONTEXT}\n",
        "\n",
        "Answer the following questions based on the given context:\n",
        "query: {QUERY}\n",
        "\"\"\"\n",
        "chat_history = []\n",
        "prompt = ChatPromptTemplate.from_template(PROMPT)\n",
        "chat_history = '\\n\\n'.join([f\"{message['role']}: {message['content']}\" for message in chat_history])\n",
        "context_str = '\\n'.join([f\"CONTEXT {idx}:\\n{res.page_content}\" for idx, (res, _score) in enumerate(contexts)])\n",
        "prompt = prompt.format(CHAT_HISTORY=chat_history,CONTEXT=context_str, QUERY=query)"
      ]
    },
    {
      "cell_type": "code",
      "execution_count": null,
      "metadata": {
        "id": "6irn2kFymxZ4"
      },
      "outputs": [],
      "source": [
        "print(prompt)"
      ]
    },
    {
      "cell_type": "markdown",
      "metadata": {
        "id": "BkMOt7f5m5eE"
      },
      "source": [
        "チャットモデルによる回答生成"
      ]
    },
    {
      "cell_type": "code",
      "execution_count": null,
      "metadata": {
        "id": "zoT7uc1Vm7cs"
      },
      "outputs": [],
      "source": [
        "from langchain.chat_models import ChatOpenAI\n",
        "\n",
        "# Initialize ChatGPT API via LangChain\n",
        "chat_model = ChatOpenAI(model_name=\"gpt-4\", temperature=0, openai_api_key=os.environ[\"OPENAI_API_KEY\"])"
      ]
    },
    {
      "cell_type": "code",
      "execution_count": null,
      "metadata": {
        "id": "oxlaxi_hm8ON"
      },
      "outputs": [],
      "source": [
        "# Send to OpenAI API\n",
        "response = chat_model.invoke(prompt)\n",
        "\n",
        "print(response)"
      ]
    },
    {
      "cell_type": "markdown",
      "metadata": {
        "id": "as6PbBvwbOXJ"
      },
      "source": [
        "出展の明記"
      ]
    },
    {
      "cell_type": "code",
      "execution_count": null,
      "metadata": {
        "collapsed": true,
        "id": "L-HMlT6jE1WC"
      },
      "outputs": [],
      "source": [
        "PROMPT = \"\"\"\n",
        "You are a helpful assistant. Answer the following questions based on the given context:\n",
        "chat history: {CHAT_HISTORY}\n",
        "\n",
        "context: {CONTEXT}\n",
        "\n",
        "Answer the following questions based on the given context:\n",
        "query: {QUERY}\n",
        "\"\"\"\n",
        "\n",
        "chat_history = '\\n\\n'.join([f\"{message['role']}: {message['content']}\" for message in chat_history])\n",
        "user_prompt = 'この企画の担当者の連絡先を教えてください。'\n",
        "\n",
        "prompt = ChatPromptTemplate.from_template(PROMPT)\n",
        "prompt = prompt.format(CHAT_HISTORY=chat_history,CONTEXT=contexts, QUERY=user_prompt)\n",
        "\n",
        "sources = '\\n '.join([f\"{doc[0].metadata['source']},{doc[0].metadata['page']}ページ\" for doc in contexts ])\n",
        "\n",
        "chat_model = ChatOpenAI(model='gpt-4o-mini')\n",
        "response = chat_model.invoke(prompt)\n",
        "print(response.content,'\\n\\n 参考文献： \\n',sources)\n"
      ]
    }
  ],
  "metadata": {
    "colab": {
      "provenance": []
    },
    "kernelspec": {
      "display_name": "Python 3",
      "name": "python3"
    },
    "language_info": {
      "name": "python"
    }
  },
  "nbformat": 4,
  "nbformat_minor": 0
}
