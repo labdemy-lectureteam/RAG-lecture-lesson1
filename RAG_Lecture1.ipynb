{
  "nbformat": 4,
  "nbformat_minor": 0,
  "metadata": {
    "colab": {
      "provenance": []
    },
    "kernelspec": {
      "name": "python3",
      "display_name": "Python 3"
    },
    "language_info": {
      "name": "python"
    }
  },
  "cells": [
    {
      "cell_type": "markdown",
      "source": [
        "# 準備"
      ],
      "metadata": {
        "id": "bdkNU2eiJNlU"
      }
    },
    {
      "cell_type": "markdown",
      "source": [
        "Google Colabを使用している場合はドライブをマウントする"
      ],
      "metadata": {
        "id": "zbhewFTHJSSV"
      }
    },
    {
      "cell_type": "code",
      "source": [
        "!git clone https://github.com/labdemy-lectureteam/RAG-lecture-lesson1.git"
      ],
      "metadata": {
        "id": "SyZqWvqzJMSW"
      },
      "execution_count": null,
      "outputs": []
    },
    {
      "cell_type": "markdown",
      "source": [
        "必要パッケージのインストール"
      ],
      "metadata": {
        "id": "NEQAKVNsJXDA"
      }
    },
    {
      "cell_type": "code",
      "source": [
        "%pip install -qU langchain_community\n",
        "%pip install -qU pypdf\n",
        "%pip install -qU nltk\n",
        "%pip install -qU langchain_openai langchain_chroma\n",
        "%pip install -qU unstructured"
      ],
      "metadata": {
        "id": "EhC_wVWRJWL8"
      },
      "execution_count": null,
      "outputs": []
    },
    {
      "cell_type": "markdown",
      "source": [
        "# データの前処理"
      ],
      "metadata": {
        "id": "g6YbRYiJJsQa"
      }
    },
    {
      "cell_type": "markdown",
      "source": [
        "## データの読み込み"
      ],
      "metadata": {
        "id": "gIRRSpGUJtq6"
      }
    },
    {
      "cell_type": "code",
      "source": [
        "from langchain_core.documents import Document"
      ],
      "metadata": {
        "id": "H8hadTOQJPkY"
      },
      "execution_count": null,
      "outputs": []
    },
    {
      "cell_type": "markdown",
      "source": [
        "## PDFの読み込み"
      ],
      "metadata": {
        "id": "ynAqp9OJJwe7"
      }
    },
    {
      "cell_type": "code",
      "source": [
        "from langchain_community.document_loaders import PyPDFLoader, PyPDFDirectoryLoader\n",
        "import os\n",
        "\n",
        "def load_PDFs_from_dir(dir_path:str)->list[Document]:\n",
        "  loader = PyPDFDirectoryLoader(dir_path, glob=\"*.pdf\")\n",
        "  documents = loader.load()\n",
        "  return documents\n",
        "\n",
        "def load_PDF_from_path(file_path:str)->list[Document]:\n",
        "  loader = PyPDFLoader(file_path)\n",
        "  documents = loader.load()\n",
        "  return documents"
      ],
      "metadata": {
        "id": "GVtUsaG7Jxmp"
      },
      "execution_count": null,
      "outputs": []
    },
    {
      "cell_type": "code",
      "source": [
        "DIR_PATH = \"/content/RAG-lecture-lesson1/sample_files\"\n",
        "docs = load_PDFs_from_dir(DIR_PATH)"
      ],
      "metadata": {
        "id": "Yrha9p0YJ-Ia"
      },
      "execution_count": null,
      "outputs": []
    },
    {
      "cell_type": "code",
      "source": [
        "print(f'docs配列の長さ（pdfの合計ファイル数ではなく、pdfの合計ページ数）：\\n{len(docs)} \\n---------') #\n",
        "print(f'1つ目のドキュメントのメタデータ（ソースのパスと、ページ番号が書かれていることに着目）：\\n{docs[1].metadata} \\n---------') #\n",
        "print(f'1つ目のドキュメントの中身：\\n{docs[1].page_content}')"
      ],
      "metadata": {
        "id": "wtYJK0PPJ-fE"
      },
      "execution_count": null,
      "outputs": []
    },
    {
      "cell_type": "markdown",
      "source": [
        "## HTMLファイルの読み込み"
      ],
      "metadata": {
        "id": "IMRCTXWjKI5I"
      }
    },
    {
      "cell_type": "code",
      "source": [
        "from langchain_community.document_loaders import BSHTMLLoader\n",
        "import os\n",
        "import glob\n",
        "\n",
        "def load_html_from_dir(dir_path:str) -> list[Document]:\n",
        "  documents = []\n",
        "  file_paths = glob.glob(os.path.join(dir_path, '*.html'))\n",
        "  for file_path in file_paths:\n",
        "    loader = BSHTMLLoader(file_path)\n",
        "    documents += loader.load()\n",
        "  return documents\n",
        "\n",
        "def load_html_from_path(file_path:str) -> list[Document]:\n",
        "  loader = BSHTMLLoader(file_path)\n",
        "  documents = loader.load()\n",
        "  return documents"
      ],
      "metadata": {
        "id": "DUk8QiEUKAue"
      },
      "execution_count": null,
      "outputs": []
    },
    {
      "cell_type": "code",
      "source": [
        "DIR_PATH = \"/content/RAG-lecture-lesson1/sample_files\"\n",
        "docs = load_html_from_dir(DIR_PATH)"
      ],
      "metadata": {
        "id": "kC2Jubs5KL3g"
      },
      "execution_count": null,
      "outputs": []
    },
    {
      "cell_type": "code",
      "source": [
        "print(f'docs配列の長さ：\\n{len(docs)} \\n ---------')\n",
        "print(f'1つ目のドキュメントのメタデータ：\\n{docs[0].metadata} \\n---------')\n",
        "print(f'1つ目のドキュメントの中身：\\n{docs[0].page_content}')"
      ],
      "metadata": {
        "id": "kfF3A0LbKmaB"
      },
      "execution_count": null,
      "outputs": []
    },
    {
      "cell_type": "markdown",
      "source": [
        "## Markdownファイルの読み込み"
      ],
      "metadata": {
        "id": "Nl7IBx7CKT8z"
      }
    },
    {
      "cell_type": "code",
      "source": [
        "from langchain_community.document_loaders import UnstructuredMarkdownLoader\n",
        "from langchain.document_loaders import DirectoryLoader\n",
        "\n",
        "def load_markdowns_from_dir(dir_path:str)->list[Document]:\n",
        "  loader = DirectoryLoader(dir_path, glob=\"*.md\")\n",
        "  documents = loader.load()\n",
        "  return documents\n",
        "\n",
        "def load_markdown_from_path(file_path:str)->list[Document]:\n",
        "  loader = UnstructuredMarkdownLoader(file_path)\n",
        "  documents = loader.load()\n",
        "  return documents"
      ],
      "metadata": {
        "id": "-OyyJwzQKVqT"
      },
      "execution_count": null,
      "outputs": []
    },
    {
      "cell_type": "code",
      "source": [
        "DIR_PATH = \"/content/RAG-lecture-lesson1/sample_files\"\n",
        "docs = load_markdowns_from_dir(DIR_PATH) #Documentクラスが格納されたリスト"
      ],
      "metadata": {
        "id": "4i0jmlkTKcnF"
      },
      "execution_count": null,
      "outputs": []
    },
    {
      "cell_type": "code",
      "source": [
        "print(f'docs配列の長さ：\\n{len(docs)} \\n ---------')\n",
        "print(f'1つ目のドキュメントのメタデータ：\\n{docs[0].metadata} \\n---------')\n",
        "print(f'1つ目のドキュメントの中身：\\n{docs[0].page_content}')"
      ],
      "metadata": {
        "id": "KFrdv-7wKotO"
      },
      "execution_count": null,
      "outputs": []
    },
    {
      "cell_type": "markdown",
      "source": [
        "# Chunk分け"
      ],
      "metadata": {
        "id": "N-hheUZuKz6U"
      }
    },
    {
      "cell_type": "code",
      "source": [
        "from langchain_text_splitters import RecursiveCharacterTextSplitter\n",
        "text_splitter = RecursiveCharacterTextSplitter(\n",
        "    separators=[\"\\n\\n\", \"\\n\", \" \", \"\"],#分割の基準となる文字\n",
        "    chunk_size=100, #chunkの大きさ\n",
        "    chunk_overlap=0, #chunkの重複の大きさ\n",
        "    length_function=len, #chunkの大きさの測定関数\n",
        "    keep_separator=False #分割基準の文字を保持するか否か\n",
        ")"
      ],
      "metadata": {
        "id": "poHlKjSDK0_g"
      },
      "execution_count": null,
      "outputs": []
    },
    {
      "cell_type": "code",
      "source": [
        "PDF_DIR_PATH = \"/content/RAG-lecture-lesson1/sample_files\"\n",
        "docs = load_PDFs_from_dir(PDF_DIR_PATH)"
      ],
      "metadata": {
        "id": "_yan3je9K6Vz"
      },
      "execution_count": null,
      "outputs": []
    },
    {
      "cell_type": "code",
      "source": [
        "chunks = text_splitter.split_documents(docs)"
      ],
      "metadata": {
        "id": "lLXl2-gyK_G4"
      },
      "execution_count": null,
      "outputs": []
    },
    {
      "cell_type": "code",
      "source": [
        "print(f\"chunkの数：{len(chunks)}\\n---------\")\n",
        "print(f\"1つ目のchunkの中身：\\n{chunks[0]}\\n---------\")\n",
        "print(f\"2つ目のchunkの中身：\\n{chunks[1]}\")\n",
        "print(f\"3つ目のchunkの中身：\\n{chunks[2]}\\n---------\")"
      ],
      "metadata": {
        "id": "roVgz6RjLAah"
      },
      "execution_count": null,
      "outputs": []
    },
    {
      "cell_type": "markdown",
      "source": [
        "# データのベクトル化"
      ],
      "metadata": {
        "id": "m28BGWpvLBzn"
      }
    },
    {
      "cell_type": "code",
      "source": [
        "from langchain_openai import OpenAIEmbeddings\n",
        "from langchain_chroma import Chroma\n",
        "\n",
        "embeddings_model = OpenAIEmbeddings(model='text-embedding-3-small')\n",
        "\n",
        "vector_db = Chroma(\n",
        "        collection_name='rag_app_collection',\n",
        "        embedding_function=embeddings_model,\n",
        "        persist_directory='database/ChromaDB'\n",
        "        )\n",
        "vector_db.add_documents(documents=chunks)"
      ],
      "metadata": {
        "id": "wHf5tPMuLDWz"
      },
      "execution_count": null,
      "outputs": []
    },
    {
      "cell_type": "code",
      "source": [
        "query='担当者の連絡先を教えて'\n",
        "contexts = vector_db.similarity_search_with_relevance_scores(query,\n",
        "                                                             k=5,\n",
        "                                                             score_threshold=0.1)"
      ],
      "metadata": {
        "id": "U_Edvzj-LKrx"
      },
      "execution_count": null,
      "outputs": []
    },
    {
      "cell_type": "code",
      "source": [
        "print(f\"質問と関連性が高いコンテキスト：{contexts}\")"
      ],
      "metadata": {
        "id": "DDQWS0CfLMSL"
      },
      "execution_count": null,
      "outputs": []
    },
    {
      "cell_type": "markdown",
      "source": [
        "# 回答生成"
      ],
      "metadata": {
        "id": "1hp6EuC3mnoa"
      }
    },
    {
      "cell_type": "markdown",
      "source": [
        "プロンプト作成"
      ],
      "metadata": {
        "id": "RtqSh40Dmy8z"
      }
    },
    {
      "cell_type": "code",
      "source": [
        "from langchain_core.prompts import ChatPromptTemplate\n",
        "PROMPT = \"\"\"\n",
        "You are a helpful assistant. Answer the following questions based on the given context:\n",
        "chat history: {CHAT_HISTORY}\n",
        "\n",
        "context: {CONTEXT}\n",
        "\n",
        "Answer the following questions based on the given context:\n",
        "query: {QUERY}\n",
        "\"\"\"\n",
        "chat_history = []\n",
        "prompt = ChatPromptTemplate.from_template(PROMPT)\n",
        "chat_history = '\\n\\n'.join([f\"{message['role']}: {message['content']}\" for message in chat_history])\n",
        "context_str = '\\n'.join([f\"CONTEXT {idx}:\\n{res.page_content}\" for idx, (res, _score) in enumerate(contexts)])\n",
        "prompt = prompt.format(CHAT_HISTORY=chat_history,CONTEXT=context_str, QUERY=query)"
      ],
      "metadata": {
        "id": "wEvWkJIEmpnZ"
      },
      "execution_count": null,
      "outputs": []
    },
    {
      "cell_type": "code",
      "source": [
        "print(prompt)"
      ],
      "metadata": {
        "id": "6irn2kFymxZ4"
      },
      "execution_count": null,
      "outputs": []
    },
    {
      "cell_type": "markdown",
      "source": [
        "チャットモデルによる回答生成"
      ],
      "metadata": {
        "id": "BkMOt7f5m5eE"
      }
    },
    {
      "cell_type": "code",
      "source": [
        "from langchain.chat_models import ChatOpenAI\n",
        "\n",
        "# Initialize ChatGPT API via LangChain\n",
        "chat_model = ChatOpenAI(model_name=\"gpt-4\", temperature=0, openai_api_key=os.environ[\"OPENAI_API_KEY\"])"
      ],
      "metadata": {
        "id": "zoT7uc1Vm7cs"
      },
      "execution_count": null,
      "outputs": []
    },
    {
      "cell_type": "code",
      "source": [
        "# Send to OpenAI API\n",
        "response = chat_model.invoke(prompt)\n",
        "\n",
        "print(response)"
      ],
      "metadata": {
        "id": "oxlaxi_hm8ON"
      },
      "execution_count": null,
      "outputs": []
    },
    {
      "cell_type": "code",
      "source": [
        "PROMPT = \"\"\"\n",
        "略\n",
        "\"\"\"\n",
        "\n",
        "chat_history = '\\n\\n'.join([f\"{message['role']}: {message['content']}\" for message in chat_history])\n",
        "user_prompt = 'この企画の担当者の連絡先を教えてください。'\n",
        "\n",
        "prompt = ChatPromptTemplate.from_template(PROMPT)\n",
        "prompt = prompt.format(CHAT_HISTORY=chat_history,CONTEXT=contexts, QUERY=user_prompt)\n",
        "\n",
        "sources = '\\n '.join([f\"{doc[0].metadata['source']},{doc[0].metadata['page']}ページ\" for doc in contexts ])\n",
        "\n",
        "chat_model = ChatOpenAI(model='gpt-4o-mini')\n",
        "response = chat_model.invoke(prompt)\n",
        "print(response.content,'\\n\\n 参考文献： \\n',sources)\n"
      ],
      "metadata": {
        "id": "L-HMlT6jE1WC",
        "collapsed": true
      },
      "execution_count": null,
      "outputs": []
    }
  ]
}